{
 "cells": [
  {
   "cell_type": "markdown",
   "metadata": {
    "collapsed": true
   },
   "source": [
    "# Loading the library\n",
    "\n",
    "The Smart Grasping Sandbox comes with a helper library that makes it easy to interact with the environment."
   ]
  },
  {
   "cell_type": "code",
   "execution_count": 1,
   "metadata": {},
   "outputs": [
    {
     "name": "stdout",
     "output_type": "stream",
     "text": [
      "[INFO] [WallTime: 1495633327.421979] [618.509000] STARTING CONTROLLERS\n"
     ]
    }
   ],
   "source": [
    "from smart_grasping_sandbox.smart_grasper import SmartGrasper\n",
    "from tf.transformations import quaternion_from_euler\n",
    "from math import pi\n",
    "import time\n",
    "\n",
    "sgs = SmartGrasper()"
   ]
  },
  {
   "cell_type": "markdown",
   "metadata": {},
   "source": [
    "# Pick the ball\n",
    "\n",
    "Try to pick the ball using the `pick` function."
   ]
  },
  {
   "cell_type": "code",
   "execution_count": 9,
   "metadata": {},
   "outputs": [
    {
     "name": "stdout",
     "output_type": "stream",
     "text": [
      "[INFO] [WallTime: 1489489274.481599] [568.390000] Moving to Pregrasp\n",
      "[INFO] [WallTime: 1489489277.343799] [570.319000] Grasping\n",
      "[INFO] [WallTime: 1489489281.400402] [573.092000] Lifting\n"
     ]
    }
   ],
   "source": [
    "sgs.pick()"
   ]
  },
  {
   "cell_type": "code",
   "execution_count": 9,
   "metadata": {},
   "outputs": [
    {
     "name": "stdout",
     "output_type": "stream",
     "text": [
      "[INFO] [WallTime: 1495633442.839701] [703.357000] STARTING CONTROLLERS\n"
     ]
    }
   ],
   "source": [
    "sgs.reset_world()"
   ]
  },
  {
   "cell_type": "markdown",
   "metadata": {},
   "source": [
    "## A bit more detail\n",
    "This is what happens in the `pick` function. \n",
    "\n",
    "First we move over the ball"
   ]
  },
  {
   "cell_type": "code",
   "execution_count": 10,
   "metadata": {},
   "outputs": [
    {
     "data": {
      "text/plain": [
       "True"
      ]
     },
     "execution_count": 10,
     "metadata": {},
     "output_type": "execute_result"
    }
   ],
   "source": [
    "sgs.open_hand()\n",
    "time.sleep(0.1)\n",
    "\n",
    "ball_pose = sgs.get_ball_pose()\n",
    "ball_pose.position.z += 0.5\n",
    "\n",
    "#setting an absolute orientation (from the top)\n",
    "quaternion = quaternion_from_euler(-pi/2., 0.0, 0.0)\n",
    "ball_pose.orientation.x = quaternion[0]\n",
    "ball_pose.orientation.y = quaternion[1]\n",
    "ball_pose.orientation.z = quaternion[2]\n",
    "ball_pose.orientation.w = quaternion[3]\n",
    "\n",
    "sgs.move_tip_absolute(ball_pose)\n"
   ]
  },
  {
   "cell_type": "markdown",
   "metadata": {},
   "source": [
    "Now finalise the approach and close the hand"
   ]
  },
  {
   "cell_type": "code",
   "execution_count": 11,
   "metadata": {},
   "outputs": [
    {
     "data": {
      "text/plain": [
       "True"
      ]
     },
     "execution_count": 11,
     "metadata": {},
     "output_type": "execute_result"
    }
   ],
   "source": [
    "sgs.move_tip(y=-0.163)"
   ]
  },
  {
   "cell_type": "code",
   "execution_count": 12,
   "metadata": {},
   "outputs": [
    {
     "data": {
      "text/plain": [
       "False"
      ]
     },
     "execution_count": 12,
     "metadata": {},
     "output_type": "execute_result"
    }
   ],
   "source": [
    "sgs.check_fingers_collisions(False)\n",
    "sgs.close_hand()"
   ]
  },
  {
   "cell_type": "markdown",
   "metadata": {},
   "source": [
    "And finally lift the ball"
   ]
  },
  {
   "cell_type": "code",
   "execution_count": 13,
   "metadata": {},
   "outputs": [
    {
     "data": {
      "text/plain": [
       "True"
      ]
     },
     "execution_count": 13,
     "metadata": {},
     "output_type": "execute_result"
    }
   ],
   "source": [
    "for _ in range(50):\n",
    "    sgs.move_tip(y=0.001)\n",
    "    time.sleep(0.1)\n",
    "    \n",
    "sgs.check_fingers_collisions(True)"
   ]
  },
  {
   "cell_type": "markdown",
   "metadata": {},
   "source": [
    "## Other tricks\n",
    "\n",
    "We can also send direct commands to the different joints."
   ]
  },
  {
   "cell_type": "code",
   "execution_count": 5,
   "metadata": {},
   "outputs": [
    {
     "name": "stdout",
     "output_type": "stream",
     "text": [
      "[INFO] [WallTime: 1488970296.130442] [229.709000] STARTING CONTROLLERS\n"
     ]
    }
   ],
   "source": [
    "sgs.reset_world()\n",
    "\n",
    "sgs.send_command({\"H1_F1J1\": -1.0, \"shoulder_pan_joint\": 2.0})\n"
   ]
  },
  {
   "cell_type": "code",
   "execution_count": 3,
   "metadata": {},
   "outputs": [
    {
     "name": "stdout",
     "output_type": "stream",
     "text": [
      "Latest joints position:  {'H1_F1J2': 0.0031896331811251954, 'H1_F1J1': -0.992757365708627, 'elbow_joint': -1.4999998102410448, 'shoulder_pan_joint': 1.2000856167965388, 'H1_F3J1': -0.012612651032773314, 'H1_F3J2': -0.005294463440041142, 'wrist_3_joint': -0.30000041150587275, 'wrist_1_joint': -0.5000002077251793, 'shoulder_lift_joint': 0.5000077397819904, 'H1_WRJ1': -0.008405688120210364, 'H1_F2J1': -0.017007151082448324, 'wrist_2_joint': -1.6000023499398974, 'H1_F2J2': -1.2585362279438073e-05}\n"
     ]
    }
   ],
   "source": [
    "joints_position,  joints_velocity, joints_effort = sgs.get_current_joint_state()\n",
    "print \"Latest joints position: \", joints_position"
   ]
  }
 ],
 "metadata": {
  "kernelspec": {
   "display_name": "Python 2",
   "language": "python",
   "name": "python2"
  },
  "language_info": {
   "codemirror_mode": {
    "name": "ipython",
    "version": 2
   },
   "file_extension": ".py",
   "mimetype": "text/x-python",
   "name": "python",
   "nbconvert_exporter": "python",
   "pygments_lexer": "ipython2",
   "version": "2.7.6"
  },
  "toc": {
   "colors": {
    "hover_highlight": "#DAA520",
    "navigate_num": "#000000",
    "navigate_text": "#333333",
    "running_highlight": "#FF0000",
    "selected_highlight": "#FFD700",
    "sidebar_border": "#EEEEEE",
    "wrapper_background": "#FFFFFF"
   },
   "moveMenuLeft": true,
   "nav_menu": {
    "height": "30px",
    "width": "252px"
   },
   "navigate_menu": true,
   "number_sections": true,
   "sideBar": true,
   "threshold": 4,
   "toc_cell": false,
   "toc_section_display": "block",
   "toc_window_display": false,
   "widenNotebook": false
  }
 },
 "nbformat": 4,
 "nbformat_minor": 1
}
