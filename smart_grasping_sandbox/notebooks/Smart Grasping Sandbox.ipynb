{
 "cells": [
  {
   "cell_type": "markdown",
   "metadata": {
    "collapsed": true,
    "deletable": true,
    "editable": true
   },
   "source": [
    "# Loading the library\n",
    "\n",
    "The Smart Grasping Sandbox comes with a helper library that makes it easy to interact with the environment."
   ]
  },
  {
   "cell_type": "code",
   "execution_count": 1,
   "metadata": {
    "collapsed": false,
    "deletable": true,
    "editable": true
   },
   "outputs": [],
   "source": [
    "from smart_grasping_sandbox.smart_grasper import SmartGrasper\n",
    "sgs = SmartGrasper()"
   ]
  },
  {
   "cell_type": "markdown",
   "metadata": {
    "deletable": true,
    "editable": true
   },
   "source": [
    "# Pick the ball\n",
    "\n",
    "Try to pick the ball "
   ]
  },
  {
   "cell_type": "code",
   "execution_count": 12,
   "metadata": {
    "collapsed": false,
    "deletable": true,
    "editable": true
   },
   "outputs": [
    {
     "name": "stdout",
     "output_type": "stream",
     "text": [
      "x, y, z: 0.0   0.0   0.1  / r, p, y:  0.0   0.0   0.0\n",
      "current pose: \n",
      "position: \n",
      "  x: 0.743518276754\n",
      "  y: -0.78379179866\n",
      "  z: 1.30104569085\n",
      "orientation: \n",
      "  x: -0.0208602320873\n",
      "  y: 0.977991228552\n",
      "  z: -0.0882831375778\n",
      "  w: 0.187893840271 \n",
      "\n",
      "final pose:\n",
      "position: \n",
      "  x: 0.70639824987\n",
      "  y: -0.767307673647\n",
      "  z: 1.39242608933\n",
      "orientation: \n",
      "  x: -0.0208602320873\n",
      "  y: 0.977991228552\n",
      "  z: -0.0882831375778\n",
      "  w: 0.187893840271\n"
     ]
    },
    {
     "data": {
      "text/plain": [
       "True"
      ]
     },
     "execution_count": 12,
     "metadata": {},
     "output_type": "execute_result"
    }
   ],
   "source": [
    "sgs.move_tip(z=0.1)"
   ]
  },
  {
   "cell_type": "code",
   "execution_count": 10,
   "metadata": {
    "collapsed": false,
    "deletable": true,
    "editable": true
   },
   "outputs": [
    {
     "name": "stdout",
     "output_type": "stream",
     "text": [
      "position: \n",
      "  x: 1.18391881264\n",
      "  y: -0.835811005085\n",
      "  z: 1.00826934528\n",
      "orientation: \n",
      "  x: -0.000152010336819\n",
      "  y: -0.999999055135\n",
      "  z: 5.51534011168e-07\n",
      "  w: 0.00136624334731 \n",
      "\n",
      "final_pose:\n",
      "position: \n",
      "  x: 1.08391919058\n",
      "  y: -0.835780602895\n",
      "  z: 1.00854259368\n",
      "orientation: \n",
      "  x: 0.000151847928693\n",
      "  y: 0.998681033004\n",
      "  z: 7.04650561751e-06\n",
      "  w: -0.051343657946\n"
     ]
    }
   ],
   "source": [
    "import PyKDL\n",
    "from tf_conversions import toMsg, posemath\n",
    "\n",
    "tip_pose = sgs.get_tip_pose()\n",
    "tip_pose_kdl = posemath.fromMsg(tip_pose)\n",
    "\n",
    "transform = PyKDL.Frame(PyKDL.Rotation.RPY(0,0.1,0), PyKDL.Vector(0.1,0,0))\n",
    "\n",
    "final_pose = toMsg( tip_pose_kdl * transform)\n",
    "print tip_pose, \"\\n\\nfinal_pose:\\n\",final_pose"
   ]
  }
 ],
 "metadata": {
  "kernelspec": {
   "display_name": "Python 2",
   "language": "python",
   "name": "python2"
  },
  "language_info": {
   "codemirror_mode": {
    "name": "ipython",
    "version": 2
   },
   "file_extension": ".py",
   "mimetype": "text/x-python",
   "name": "python",
   "nbconvert_exporter": "python",
   "pygments_lexer": "ipython2",
   "version": "2.7.6"
  },
  "toc": {
   "colors": {
    "hover_highlight": "#DAA520",
    "running_highlight": "#FF0000",
    "selected_highlight": "#FFD700"
   },
   "moveMenuLeft": true,
   "nav_menu": {
    "height": "30px",
    "width": "252px"
   },
   "navigate_menu": true,
   "number_sections": true,
   "sideBar": true,
   "threshold": 4,
   "toc_cell": false,
   "toc_section_display": "block",
   "toc_window_display": false
  }
 },
 "nbformat": 4,
 "nbformat_minor": 0
}
