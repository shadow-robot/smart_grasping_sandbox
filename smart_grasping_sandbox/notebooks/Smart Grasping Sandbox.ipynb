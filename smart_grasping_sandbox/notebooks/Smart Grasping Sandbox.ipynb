{
 "cells": [
  {
   "cell_type": "markdown",
   "metadata": {
    "collapsed": true,
    "deletable": true,
    "editable": true
   },
   "source": [
    "# Loading the library\n",
    "\n",
    "The Smart Grasping Sandbox comes with a helper library that makes it easy to interact with the environment."
   ]
  },
  {
   "cell_type": "code",
   "execution_count": 8,
   "metadata": {
    "collapsed": false,
    "deletable": true,
    "editable": true
   },
   "outputs": [
    {
     "name": "stdout",
     "output_type": "stream",
     "text": [
      "[INFO] [WallTime: 1488894663.648770] [1974.631000] STARTING CONTROLLERS\n"
     ]
    }
   ],
   "source": [
    "from smart_grasping_sandbox.smart_grasper import SmartGrasper\n",
    "from tf.transformations import quaternion_from_euler\n",
    "from math import pi\n",
    "import time\n",
    "\n",
    "sgs = SmartGrasper()"
   ]
  },
  {
   "cell_type": "markdown",
   "metadata": {
    "deletable": true,
    "editable": true
   },
   "source": [
    "# Pick the ball\n",
    "\n",
    "Try to pick the ball using the `pick` function."
   ]
  },
  {
   "cell_type": "code",
   "execution_count": 5,
   "metadata": {
    "collapsed": false,
    "deletable": true,
    "editable": true
   },
   "outputs": [
    {
     "name": "stdout",
     "output_type": "stream",
     "text": [
      "[INFO] [WallTime: 1488894589.317565] [1900.707000] Moving to Pregrasp\n",
      "[INFO] [WallTime: 1488894592.226934] [1902.684000] Grasping\n",
      "[INFO] [WallTime: 1488894595.941790] [1905.499000] Lifting\n"
     ]
    }
   ],
   "source": [
    "sgs.pick()"
   ]
  },
  {
   "cell_type": "markdown",
   "metadata": {
    "deletable": true,
    "editable": true
   },
   "source": [
    "## A bit more detail\n",
    "This is what happens in the `pick` function. \n",
    "\n",
    "First we move over the ball"
   ]
  },
  {
   "cell_type": "code",
   "execution_count": 11,
   "metadata": {
    "collapsed": false,
    "deletable": true,
    "editable": true
   },
   "outputs": [
    {
     "data": {
      "text/plain": [
       "True"
      ]
     },
     "execution_count": 11,
     "metadata": {},
     "output_type": "execute_result"
    }
   ],
   "source": [
    "sgs.open_hand()\n",
    "time.sleep(0.1)\n",
    "\n",
    "ball_pose = sgs.get_ball_pose()\n",
    "ball_pose.position.z += 0.5\n",
    "\n",
    "#setting an absolute orientation (from the top)\n",
    "quaternion = quaternion_from_euler(-pi/2., 0.0, 0.0)\n",
    "ball_pose.orientation.x = quaternion[0]\n",
    "ball_pose.orientation.y = quaternion[1]\n",
    "ball_pose.orientation.z = quaternion[2]\n",
    "ball_pose.orientation.w = quaternion[3]\n",
    "\n",
    "sgs.move_tip_absolute(ball_pose)\n"
   ]
  },
  {
   "cell_type": "markdown",
   "metadata": {
    "deletable": true,
    "editable": true
   },
   "source": [
    "Now finalise the approach and close the hand"
   ]
  },
  {
   "cell_type": "code",
   "execution_count": 12,
   "metadata": {
    "collapsed": false,
    "deletable": true,
    "editable": true
   },
   "outputs": [
    {
     "data": {
      "text/plain": [
       "True"
      ]
     },
     "execution_count": 12,
     "metadata": {},
     "output_type": "execute_result"
    }
   ],
   "source": [
    "sgs.move_tip(y=-0.093)"
   ]
  },
  {
   "cell_type": "code",
   "execution_count": 13,
   "metadata": {
    "collapsed": false,
    "deletable": true,
    "editable": true
   },
   "outputs": [
    {
     "data": {
      "text/plain": [
       "False"
      ]
     },
     "execution_count": 13,
     "metadata": {},
     "output_type": "execute_result"
    }
   ],
   "source": [
    "sgs.check_fingers_collisions(False)\n",
    "sgs.close_hand()"
   ]
  },
  {
   "cell_type": "markdown",
   "metadata": {
    "deletable": true,
    "editable": true
   },
   "source": [
    "And finally lift the ball"
   ]
  },
  {
   "cell_type": "code",
   "execution_count": 14,
   "metadata": {
    "collapsed": false,
    "deletable": true,
    "editable": true
   },
   "outputs": [
    {
     "data": {
      "text/plain": [
       "True"
      ]
     },
     "execution_count": 14,
     "metadata": {},
     "output_type": "execute_result"
    }
   ],
   "source": [
    "for _ in range(50):\n",
    "    sgs.move_tip(y=0.001)\n",
    "    time.sleep(0.1)\n",
    "    \n",
    "sgs.check_fingers_collisions(True)"
   ]
  },
  {
   "cell_type": "code",
   "execution_count": 15,
   "metadata": {
    "collapsed": false,
    "deletable": true,
    "editable": true
   },
   "outputs": [
    {
     "name": "stdout",
     "output_type": "stream",
     "text": [
      "[INFO] [WallTime: 1488884697.336450] [1885.385000] STARTING CONTROLLERS\n"
     ]
    }
   ],
   "source": [
    "sgs.reset_world()"
   ]
  }
 ],
 "metadata": {
  "kernelspec": {
   "display_name": "Python 2",
   "language": "python",
   "name": "python2"
  },
  "language_info": {
   "codemirror_mode": {
    "name": "ipython",
    "version": 2
   },
   "file_extension": ".py",
   "mimetype": "text/x-python",
   "name": "python",
   "nbconvert_exporter": "python",
   "pygments_lexer": "ipython2",
   "version": "2.7.6"
  },
  "toc": {
   "colors": {
    "hover_highlight": "#DAA520",
    "running_highlight": "#FF0000",
    "selected_highlight": "#FFD700"
   },
   "moveMenuLeft": true,
   "nav_menu": {
    "height": "30px",
    "width": "252px"
   },
   "navigate_menu": true,
   "number_sections": true,
   "sideBar": true,
   "threshold": 4,
   "toc_cell": false,
   "toc_section_display": "block",
   "toc_window_display": false
  }
 },
 "nbformat": 4,
 "nbformat_minor": 0
}
